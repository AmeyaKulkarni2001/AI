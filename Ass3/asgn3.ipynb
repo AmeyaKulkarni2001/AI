{
 "cells": [
  {
   "cell_type": "code",
   "execution_count": 1,
   "id": "1d849f05",
   "metadata": {},
   "outputs": [
    {
     "name": "stdout",
     "output_type": "stream",
     "text": [
      "SEND + MORE = MONEY\n",
      "(9567, 1085, 10652)\n",
      "CROSS + ROADS = DANGER\n",
      "(96233, 62513, 158746)\n"
     ]
    }
   ],
   "source": [
    "import time\n",
    "import itertools\n",
    " \n",
    "def solution1():\n",
    "    letters = ('s', 'e', 'n', 'd', 'm', 'o', 'r', 'y')\n",
    "    digits = range(10)\n",
    "    for perm in itertools.permutations(digits, len(letters)):\n",
    "        sol = dict(zip(letters, perm))\n",
    "        if sol['s'] == 0 or sol['m'] == 0:\n",
    "            continue\n",
    "        send = 1000 * sol['s'] + 100 * sol['e'] + 10 * sol['n'] + sol['d']\n",
    "        more = 1000 * sol['m'] + 100 * sol['o'] + 10 * sol['r'] + sol['e']\n",
    "        money = 10000 * sol['m'] + 1000 * sol['o'] + 100 * sol['n'] + 10 * sol['e'] + sol['y']\n",
    "        if send + more == money:\n",
    "            print(\"SEND + MORE = MONEY\")\n",
    "            return send, more, money\n",
    "            \n",
    "def solution2():\n",
    "    letters = ('c', 'r', 'o', 's', 'a', 'd', 'n', 'g', 'e')\n",
    "    digits = range(10)\n",
    "    for perm in itertools.permutations(digits, len(letters)):\n",
    "        sol = dict(zip(letters, perm))\n",
    "        if sol['c'] == 0 or sol['r'] == 0:\n",
    "            continue\n",
    "        cross = 10000 * sol['c'] + 1000 * sol['r'] + 100 * sol['o'] + 10 * sol['s'] + sol['s']\n",
    "        roads = 10000 * sol['r'] + 1000 * sol['o'] + 100 * sol['a'] + 10 * sol['d'] + sol['s']\n",
    "        danger = 100000 * sol['d'] + 10000 * sol['a'] + 1000 * sol['n'] + 100 * sol['g'] + 10 * sol['e'] + sol['r']\n",
    "        if cross + roads == danger:\n",
    "            print(\"CROSS + ROADS = DANGER\")\n",
    "            return cross, roads, danger\n",
    "\n",
    "print(solution1())\n",
    "print(solution2())"
   ]
  }
 ],
 "metadata": {
  "kernelspec": {
   "display_name": "Python 3 (ipykernel)",
   "language": "python",
   "name": "python3"
  },
  "language_info": {
   "codemirror_mode": {
    "name": "ipython",
    "version": 3
   },
   "file_extension": ".py",
   "mimetype": "text/x-python",
   "name": "python",
   "nbconvert_exporter": "python",
   "pygments_lexer": "ipython3",
   "version": "3.9.7"
  }
 },
 "nbformat": 4,
 "nbformat_minor": 5
}
